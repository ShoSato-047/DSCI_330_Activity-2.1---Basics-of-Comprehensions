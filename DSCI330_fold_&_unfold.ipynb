{
  "nbformat": 4,
  "nbformat_minor": 0,
  "metadata": {
    "colab": {
      "provenance": [],
      "authorship_tag": "ABX9TyN3soy1fEVYjyJWQ5KR27xe",
      "include_colab_link": true
    },
    "kernelspec": {
      "name": "python3",
      "display_name": "Python 3"
    },
    "language_info": {
      "name": "python"
    }
  },
  "cells": [
    {
      "cell_type": "markdown",
      "metadata": {
        "id": "view-in-github",
        "colab_type": "text"
      },
      "source": [
        "<a href=\"https://colab.research.google.com/github/ShoSato-047/DSCI_330_module_2/blob/main/DSCI330_fold_%26_unfold.ipynb\" target=\"_parent\"><img src=\"https://colab.research.google.com/assets/colab-badge.svg\" alt=\"Open In Colab\"/></a>"
      ]
    },
    {
      "cell_type": "markdown",
      "source": [
        "Fold and unfold are not built-in functions like map() or reduce(), but they are common concepts in functional programming.\n",
        "  - **Fold** (also known as \"reduce\") is a way to aggregate a collection into a single value by applying a function cumulatively.\n",
        "  - **Unfold** is the reverse process—it generates a sequence from an initial value."
      ],
      "metadata": {
        "id": "ruCA4FhDEg_l"
      }
    },
    {
      "cell_type": "markdown",
      "source": [
        "# **Fold (Using reduce())**\n",
        "In Python, folding is typically done using functools.reduce().\n",
        "\n",
        "Example: Compute the sum of all elements in a list using fold"
      ],
      "metadata": {
        "id": "Qzi6LQk4FCMp"
      }
    },
    {
      "cell_type": "code",
      "execution_count": 1,
      "metadata": {
        "colab": {
          "base_uri": "https://localhost:8080/"
        },
        "id": "VDEeNOOAEcrh",
        "outputId": "7cb93234-1213-4e7e-d067-099d42413fa3"
      },
      "outputs": [
        {
          "output_type": "stream",
          "name": "stdout",
          "text": [
            "15\n"
          ]
        }
      ],
      "source": [
        "from functools import reduce\n",
        "\n",
        "numbers = [1, 2, 3, 4, 5]\n",
        "sum_result = reduce(lambda x, y: x + y, numbers)\n",
        "print(sum_result)  # Output: 15 (1+2+3+4+5)"
      ]
    },
    {
      "cell_type": "markdown",
      "source": [
        "Example: Compute factorial using fold"
      ],
      "metadata": {
        "id": "74Z0j3qoFOLV"
      }
    },
    {
      "cell_type": "code",
      "source": [
        "from functools import reduce\n",
        "\n",
        "n = 5  # Compute 5! (5 factorial)\n",
        "factorial = reduce(lambda x, y: x * y, range(1, n + 1))\n",
        "print(factorial)  # Output: 120 (1*2*3*4*5)"
      ],
      "metadata": {
        "id": "CrO4-fQDFJQZ"
      },
      "execution_count": null,
      "outputs": []
    },
    {
      "cell_type": "markdown",
      "source": [
        "# **Unfold (Generating a sequence)**\n",
        "Python does not have a built-in unfold() function, but we can implement it using generators or a loop.\n",
        "\n",
        "Example: Generate Fibonacci numbers using unfold"
      ],
      "metadata": {
        "id": "akDH2jPbFT3F"
      }
    },
    {
      "cell_type": "code",
      "source": [
        "def fibonacci_unfold(n):\n",
        "    a, b = 0, 1\n",
        "    for _ in range(n):\n",
        "        yield a\n",
        "        a, b = b, a + b\n",
        "\n",
        "print(list(fibonacci_unfold(10)))  # Output: [0, 1, 1, 2, 3, 5, 8, 13, 21, 34]"
      ],
      "metadata": {
        "colab": {
          "base_uri": "https://localhost:8080/"
        },
        "id": "FgBhElHrFXM4",
        "outputId": "fa295479-25d9-4cf3-eecd-2d73bf9c6d71"
      },
      "execution_count": 2,
      "outputs": [
        {
          "output_type": "stream",
          "name": "stdout",
          "text": [
            "[0, 1, 1, 2, 3, 5, 8, 13, 21, 34]\n"
          ]
        }
      ]
    },
    {
      "cell_type": "markdown",
      "source": [
        "Example: Generate a sequence of numbers until a stopping condition"
      ],
      "metadata": {
        "id": "iOTlfuQlFcTK"
      }
    },
    {
      "cell_type": "code",
      "source": [
        "def unfold(f, seed, stop_condition):\n",
        "    while not stop_condition(seed):\n",
        "        yield seed\n",
        "        seed = f(seed)\n",
        "\n",
        "# Example: Generate powers of 2 until 100\n",
        "sequence = list(unfold(lambda x: x * 2, 1, lambda x: x > 100))\n",
        "print(sequence)  # Output: [1, 2, 4, 8, 16, 32, 64]\n"
      ],
      "metadata": {
        "colab": {
          "base_uri": "https://localhost:8080/"
        },
        "id": "vUKEG4x2FaVN",
        "outputId": "592b95d1-839e-4f12-f5f2-65ebe9384261"
      },
      "execution_count": 4,
      "outputs": [
        {
          "output_type": "stream",
          "name": "stdout",
          "text": [
            "[1, 2, 4, 8, 16, 32, 64]\n"
          ]
        }
      ]
    },
    {
      "cell_type": "markdown",
      "source": [
        "Example: Generate a sequence of numbers starting from 1 until 10"
      ],
      "metadata": {
        "id": "ps-0lbdsF8Z7"
      }
    },
    {
      "cell_type": "code",
      "source": [
        "def unfold_numbers(start, stop):\n",
        "    while start <= stop:\n",
        "        yield start\n",
        "        start += 1  # Move to the next number\n",
        "\n",
        "print(list(unfold_numbers(1, 10)))\n",
        "# Output: [1, 2, 3, 4, 5, 6, 7, 8, 9, 10]\n"
      ],
      "metadata": {
        "id": "aWQpgkkOF75-"
      },
      "execution_count": null,
      "outputs": []
    }
  ]
}