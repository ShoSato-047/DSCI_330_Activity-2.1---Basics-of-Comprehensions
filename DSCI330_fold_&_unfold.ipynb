{
  "nbformat": 4,
  "nbformat_minor": 0,
  "metadata": {
    "colab": {
      "provenance": [],
      "authorship_tag": "ABX9TyPaqsltRKDzU8lem6z5JXui",
      "include_colab_link": true
    },
    "kernelspec": {
      "name": "python3",
      "display_name": "Python 3"
    },
    "language_info": {
      "name": "python"
    }
  },
  "cells": [
    {
      "cell_type": "markdown",
      "metadata": {
        "id": "view-in-github",
        "colab_type": "text"
      },
      "source": [
        "<a href=\"https://colab.research.google.com/github/ShoSato-047/DSCI_330_module_2/blob/main/DSCI330_fold_%26_unfold.ipynb\" target=\"_parent\"><img src=\"https://colab.research.google.com/assets/colab-badge.svg\" alt=\"Open In Colab\"/></a>"
      ]
    },
    {
      "cell_type": "markdown",
      "source": [
        "Fold and unfold are not built-in functions like map() or reduce(), but they are common concepts in functional programming.\n",
        "  - **Fold** (also known as \"reduce\") is a way to aggregate a collection into a single value by applying a function cumulatively.\n",
        "  - **Unfold** is the reverse process—it generates a sequence from an initial value."
      ],
      "metadata": {
        "id": "ruCA4FhDEg_l"
      }
    },
    {
      "cell_type": "markdown",
      "source": [
        "# **Fold (Using reduce())**\n",
        "In Python, folding is typically done using functools.reduce().\n",
        "\n",
        "Example: Compute the sum of all elements in a list using fold"
      ],
      "metadata": {
        "id": "Qzi6LQk4FCMp"
      }
    },
    {
      "cell_type": "code",
      "execution_count": 1,
      "metadata": {
        "colab": {
          "base_uri": "https://localhost:8080/"
        },
        "id": "VDEeNOOAEcrh",
        "outputId": "41a8cd39-4105-44a3-9394-2c685cc33c21"
      },
      "outputs": [
        {
          "output_type": "stream",
          "name": "stdout",
          "text": [
            "15\n"
          ]
        }
      ],
      "source": [
        "from functools import reduce\n",
        "\n",
        "numbers = [1, 2, 3, 4, 5]\n",
        "sum_result = reduce(lambda x, y: x + y, numbers)\n",
        "print(sum_result)  # Output: 15 (1+2+3+4+5)"
      ]
    },
    {
      "cell_type": "markdown",
      "source": [
        "Example: Compute factorial using fold"
      ],
      "metadata": {
        "id": "74Z0j3qoFOLV"
      }
    },
    {
      "cell_type": "code",
      "source": [
        "from functools import reduce\n",
        "\n",
        "n = 5  # Compute 5! (5 factorial)\n",
        "factorial = reduce(lambda x, y: x * y, range(1, n + 1))\n",
        "print(factorial)  # Output: 120 (1*2*3*4*5)"
      ],
      "metadata": {
        "id": "CrO4-fQDFJQZ",
        "colab": {
          "base_uri": "https://localhost:8080/"
        },
        "outputId": "938dee3f-2674-4cce-905e-5da4f78a53e1"
      },
      "execution_count": 2,
      "outputs": [
        {
          "output_type": "stream",
          "name": "stdout",
          "text": [
            "120\n"
          ]
        }
      ]
    },
    {
      "cell_type": "markdown",
      "source": [
        "# **Unfold (Generating a sequence)**\n",
        "Python does not have a built-in unfold() function, but we can implement it using generators or a loop.\n",
        "\n",
        "Example: Generate Fibonacci numbers using unfold"
      ],
      "metadata": {
        "id": "akDH2jPbFT3F"
      }
    },
    {
      "cell_type": "code",
      "source": [
        "def fibonacci_unfold(n):\n",
        "    a, b = 0, 1\n",
        "    for _ in range(n):\n",
        "        yield a\n",
        "        a, b = b, a + b\n",
        "\n",
        "print(list(fibonacci_unfold(10)))  # Output: [0, 1, 1, 2, 3, 5, 8, 13, 21, 34]"
      ],
      "metadata": {
        "colab": {
          "base_uri": "https://localhost:8080/"
        },
        "id": "FgBhElHrFXM4",
        "outputId": "440a0fef-f280-4a66-b512-02e6d4a7612e"
      },
      "execution_count": 8,
      "outputs": [
        {
          "output_type": "stream",
          "name": "stdout",
          "text": [
            "[0, 1, 1, 2, 3, 5, 8, 13, 21, 34]\n"
          ]
        }
      ]
    },
    {
      "cell_type": "markdown",
      "source": [
        "Example: Generate a sequence of numbers until a stopping condition"
      ],
      "metadata": {
        "id": "iOTlfuQlFcTK"
      }
    },
    {
      "cell_type": "code",
      "source": [
        "def unfold(f, seed, stop_condition):\n",
        "    while not stop_condition(seed):\n",
        "        yield seed\n",
        "        seed = f(seed)\n",
        "\n",
        "# Example: Generate powers of 2 until 100\n",
        "sequence = list(unfold(lambda x: x * 2, 1, lambda x: x > 100))\n",
        "print(sequence)  # Output: [1, 2, 4, 8, 16, 32, 64]\n"
      ],
      "metadata": {
        "colab": {
          "base_uri": "https://localhost:8080/"
        },
        "id": "vUKEG4x2FaVN",
        "outputId": "0ea69875-64bb-428a-bbb5-7c6f3215a420"
      },
      "execution_count": 7,
      "outputs": [
        {
          "output_type": "stream",
          "name": "stdout",
          "text": [
            "[1, 2, 4, 8, 16, 32, 64]\n"
          ]
        }
      ]
    },
    {
      "cell_type": "markdown",
      "source": [
        "Example: Generate a sequence of numbers starting from 1 until 10"
      ],
      "metadata": {
        "id": "ps-0lbdsF8Z7"
      }
    },
    {
      "cell_type": "code",
      "source": [
        "def unfold_numbers(start, stop):\n",
        "    while start <= stop:\n",
        "        yield start\n",
        "        start += 1  # Move to the next number\n",
        "\n",
        "print(list(unfold_numbers(1, 10)))\n",
        "# Output: [1, 2, 3, 4, 5, 6, 7, 8, 9, 10]"
      ],
      "metadata": {
        "id": "aWQpgkkOF75-",
        "colab": {
          "base_uri": "https://localhost:8080/"
        },
        "outputId": "7d6b20fb-cfcf-4724-d4d2-369da58f9755"
      },
      "execution_count": 6,
      "outputs": [
        {
          "output_type": "stream",
          "name": "stdout",
          "text": [
            "[1, 2, 3, 4, 5, 6, 7, 8, 9, 10]\n"
          ]
        }
      ]
    },
    {
      "cell_type": "markdown",
      "source": [
        "# <font color = red> Problem 1. Generate a Countdown Timer\n",
        "Problem: Create a countdown generator that starts from a given number n and counts down to 0."
      ],
      "metadata": {
        "id": "ttrKxq0ZXYUS"
      }
    },
    {
      "cell_type": "code",
      "source": [
        "# yield makes a function a generator.\n",
        "# Without yield, the function just runs and exits (returns None).\n",
        "\n",
        "def countdown_unfold(start, stop):\n",
        "    while start >= stop:\n",
        "      yield start\n",
        "      start -= 1\n",
        "\n",
        "print(list(countdown_unfold(10, 0)))"
      ],
      "metadata": {
        "colab": {
          "base_uri": "https://localhost:8080/"
        },
        "id": "lru06G_zXul-",
        "outputId": "5b19ae27-0e36-4297-94f2-4c01f67159bd"
      },
      "execution_count": 13,
      "outputs": [
        {
          "output_type": "stream",
          "name": "stdout",
          "text": [
            "[10, 9, 8, 7, 6, 5, 4, 3, 2, 1, 0]\n"
          ]
        }
      ]
    },
    {
      "cell_type": "markdown",
      "source": [
        "#<font color = red> Problem 2. Generate Powers of 2 (Until a Limit)\n",
        "Problem: Generate numbers that are powers of 2 (starting from 1) until the value exceeds 100."
      ],
      "metadata": {
        "id": "jb1Aoz8waZOA"
      }
    },
    {
      "cell_type": "code",
      "source": [
        "def power_of_2(limit):\n",
        "  x = 1\n",
        "  while x <= limit:\n",
        "    yield x\n",
        "    x *= 2\n",
        "\n",
        "print(list(power_of_2(100)))"
      ],
      "metadata": {
        "colab": {
          "base_uri": "https://localhost:8080/"
        },
        "id": "Yzbfnnxuai-Z",
        "outputId": "82336c84-2f63-4fa0-aa08-aea0c5ca0485"
      },
      "execution_count": 15,
      "outputs": [
        {
          "output_type": "stream",
          "name": "stdout",
          "text": [
            "[1, 2, 4, 8, 16, 32, 64]\n"
          ]
        }
      ]
    },
    {
      "cell_type": "markdown",
      "source": [
        "#<font color = red> Problem 3. Generate Collatz Sequence (Hailstone Sequence)\n",
        "Problem: The Collatz sequence starts with n:\n",
        "  - If n is even → divide it by 2\n",
        "  - If n is odd → multiply it by 3 and add 1\n",
        "  - Stop when n = 1"
      ],
      "metadata": {
        "id": "JkntQUiDcOoB"
      }
    },
    {
      "cell_type": "code",
      "source": [
        "# /  = Division (returns float)\n",
        "# // = Floor Division (returns int)\n",
        "\n",
        "def collatz_sequence(n):\n",
        "  while n != 1:\n",
        "        yield n\n",
        "        n = n//2 if n%2==0 else 3*n + 1\n",
        "  yield 1  # Final value\n",
        "print(list(collatz_sequence(6)))"
      ],
      "metadata": {
        "colab": {
          "base_uri": "https://localhost:8080/"
        },
        "id": "VFXH911Gcj2f",
        "outputId": "cbb6d7ac-7df0-49b1-cbd5-856d79c52e4b"
      },
      "execution_count": 21,
      "outputs": [
        {
          "output_type": "stream",
          "name": "stdout",
          "text": [
            "[6, 3, 10, 5, 16, 8, 4, 2, 1]\n"
          ]
        }
      ]
    }
  ]
}