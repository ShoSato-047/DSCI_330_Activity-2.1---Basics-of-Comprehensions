{
  "nbformat": 4,
  "nbformat_minor": 0,
  "metadata": {
    "colab": {
      "provenance": [],
      "authorship_tag": "ABX9TyPho6HUGlcXTNzDneRmmTNe",
      "include_colab_link": true
    },
    "kernelspec": {
      "name": "python3",
      "display_name": "Python 3"
    },
    "language_info": {
      "name": "python"
    }
  },
  "cells": [
    {
      "cell_type": "markdown",
      "metadata": {
        "id": "view-in-github",
        "colab_type": "text"
      },
      "source": [
        "<a href=\"https://colab.research.google.com/github/ShoSato-047/DSCI_330_module_2/blob/main/DSCI330_list_comprehensions.ipynb\" target=\"_parent\"><img src=\"https://colab.research.google.com/assets/colab-badge.svg\" alt=\"Open In Colab\"/></a>"
      ]
    },
    {
      "cell_type": "markdown",
      "source": [
        "List comprehension is a concise way to create lists in Python. It allows you to generate lists in a single line using a compact syntax.\n",
        "\n",
        "###**Basic Syntax**"
      ],
      "metadata": {
        "id": "eP4WFZVXQzKW"
      }
    },
    {
      "cell_type": "code",
      "execution_count": null,
      "metadata": {
        "id": "eN5aHmeXQLbc"
      },
      "outputs": [],
      "source": [
        "new_list = [expression for item in iterable if condition]"
      ]
    },
    {
      "cell_type": "markdown",
      "source": [
        "- expression → The operation applied to each item (optional).\n",
        "- iterable → The source (e.g., a list, range, etc.).\n",
        "- condition (optional) → A filter that decides whether an item should be included."
      ],
      "metadata": {
        "id": "qUdCk1VDRL3x"
      }
    },
    {
      "cell_type": "markdown",
      "source": [
        "###**Examples of List Comprehension**\n",
        "1. Create a list of squares"
      ],
      "metadata": {
        "id": "gjZqVRaHRbTY"
      }
    },
    {
      "cell_type": "code",
      "source": [
        "squares = [x ** 2 for x in range(1, 6)]\n",
        "print(squares)  # Output: [1, 4, 9, 16, 25]"
      ],
      "metadata": {
        "colab": {
          "base_uri": "https://localhost:8080/"
        },
        "id": "1brBdUpBRPdm",
        "outputId": "bbc0160c-7b47-4261-ff83-d6b3b81e9b54"
      },
      "execution_count": 1,
      "outputs": [
        {
          "output_type": "stream",
          "name": "stdout",
          "text": [
            "[1, 4, 9, 16, 25]\n"
          ]
        }
      ]
    },
    {
      "cell_type": "markdown",
      "source": [
        "2. Filter even numbers from a list"
      ],
      "metadata": {
        "id": "6d-sBvG3Rsat"
      }
    },
    {
      "cell_type": "code",
      "source": [
        "numbers = [1, 2, 3, 4, 5, 6, 7, 8]\n",
        "evens = [x for x in numbers if x % 2 == 0]\n",
        "print(evens)  # Output: [2, 4, 6, 8]"
      ],
      "metadata": {
        "colab": {
          "base_uri": "https://localhost:8080/"
        },
        "id": "_CAIML_oRjoY",
        "outputId": "99bd0b01-5e1c-4e9c-d065-f94966f82520"
      },
      "execution_count": 2,
      "outputs": [
        {
          "output_type": "stream",
          "name": "stdout",
          "text": [
            "[2, 4, 6, 8]\n"
          ]
        }
      ]
    },
    {
      "cell_type": "markdown",
      "source": [
        "# <font color = red> Problem 1: Double the Even Numbers\n",
        "\n",
        "Given: A list of numbers [1, 2, 3, 4, 5, 6, 7, 8, 9, 10]\n",
        "\n",
        "Task: Use list comprehension to create a new list that contains only the even numbers, but doubled."
      ],
      "metadata": {
        "id": "vxWjg0eiSDUs"
      }
    },
    {
      "cell_type": "code",
      "source": [
        "numbers =  [1, 2, 3, 4, 5, 6, 7, 8, 9, 10]\n",
        "numbers"
      ],
      "metadata": {
        "colab": {
          "base_uri": "https://localhost:8080/"
        },
        "id": "So0dnaitRu5N",
        "outputId": "1d035c41-0e68-4f94-d331-49ba9ab9f391"
      },
      "execution_count": 3,
      "outputs": [
        {
          "output_type": "execute_result",
          "data": {
            "text/plain": [
              "[1, 2, 3, 4, 5, 6, 7, 8, 9, 10]"
            ]
          },
          "metadata": {},
          "execution_count": 3
        }
      ]
    },
    {
      "cell_type": "code",
      "source": [
        "doubled_even_numbers = [n*2 for n in numbers if n%2==0]\n",
        "doubled_even_numbers"
      ],
      "metadata": {
        "colab": {
          "base_uri": "https://localhost:8080/"
        },
        "id": "VNTq9fkvSewZ",
        "outputId": "7c418338-f8ed-42b0-84b6-a0a070e11f5a"
      },
      "execution_count": 6,
      "outputs": [
        {
          "output_type": "execute_result",
          "data": {
            "text/plain": [
              "[4, 8, 12, 16, 20]"
            ]
          },
          "metadata": {},
          "execution_count": 6
        }
      ]
    },
    {
      "cell_type": "markdown",
      "source": [
        "#<font color = red> Problem 2: Extract First Letters from Words\n",
        "\n",
        "Given: A list of words [\"apple\", \"banana\", \"cherry\", \"date\", \"elderberry\"]\n",
        "\n",
        "Task: Use list comprehension to create a list of the first letter of each word."
      ],
      "metadata": {
        "id": "hEN0rjSMTEMf"
      }
    },
    {
      "cell_type": "code",
      "source": [
        "words = [\"apple\", \"banana\", \"cherry\", \"date\", \"elderberry\"]\n",
        "words"
      ],
      "metadata": {
        "colab": {
          "base_uri": "https://localhost:8080/"
        },
        "id": "HyUq7QNlTOcN",
        "outputId": "b4435658-9ac1-4717-a7ad-1626522706ea"
      },
      "execution_count": 7,
      "outputs": [
        {
          "output_type": "execute_result",
          "data": {
            "text/plain": [
              "['apple', 'banana', 'cherry', 'date', 'elderberry']"
            ]
          },
          "metadata": {},
          "execution_count": 7
        }
      ]
    },
    {
      "cell_type": "code",
      "source": [
        "first_letter = [word[0] for word in words]\n",
        "first_letter"
      ],
      "metadata": {
        "colab": {
          "base_uri": "https://localhost:8080/"
        },
        "id": "oZ-db4r5TZTy",
        "outputId": "9aca972d-2b3c-4839-ff48-c054bed5ce4e"
      },
      "execution_count": 10,
      "outputs": [
        {
          "output_type": "execute_result",
          "data": {
            "text/plain": [
              "['a', 'b', 'c', 'd', 'e']"
            ]
          },
          "metadata": {},
          "execution_count": 10
        }
      ]
    },
    {
      "cell_type": "markdown",
      "source": [
        "#<font color = red> Problem 3: Generate a List of Squares (Only If Divisible by 3)\n",
        "Given: A range of numbers from 1 to 20\n",
        "\n",
        "Task: Use list comprehension to generate a list of squares of numbers only if they are divisible by 3."
      ],
      "metadata": {
        "id": "DP9F-BLBUNdz"
      }
    },
    {
      "cell_type": "code",
      "source": [
        "numbers = list(range(1,21))\n",
        "numbers"
      ],
      "metadata": {
        "colab": {
          "base_uri": "https://localhost:8080/"
        },
        "id": "sAGEOVAJUbMP",
        "outputId": "04b5e0d7-237c-4f36-c5a6-ec44ac031f2a"
      },
      "execution_count": 12,
      "outputs": [
        {
          "output_type": "execute_result",
          "data": {
            "text/plain": [
              "[1, 2, 3, 4, 5, 6, 7, 8, 9, 10, 11, 12, 13, 14, 15, 16, 17, 18, 19, 20]"
            ]
          },
          "metadata": {},
          "execution_count": 12
        }
      ]
    },
    {
      "cell_type": "code",
      "source": [
        "squares_if_3 = [number**2 for number in numbers if number%3==0]\n",
        "squares_if_3"
      ],
      "metadata": {
        "colab": {
          "base_uri": "https://localhost:8080/"
        },
        "id": "EBmdZL4eU6Gp",
        "outputId": "824beed4-7eef-4777-c371-c56efa60f26b"
      },
      "execution_count": 14,
      "outputs": [
        {
          "output_type": "execute_result",
          "data": {
            "text/plain": [
              "[9, 36, 81, 144, 225, 324]"
            ]
          },
          "metadata": {},
          "execution_count": 14
        }
      ]
    }
  ]
}