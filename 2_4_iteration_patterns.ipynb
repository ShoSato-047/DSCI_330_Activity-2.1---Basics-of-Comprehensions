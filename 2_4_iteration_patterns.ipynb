{
 "cells": [
  {
   "cell_type": "code",
   "execution_count": 1,
   "metadata": {},
   "outputs": [
    {
     "name": "stdout",
     "output_type": "stream",
     "text": [
      "Requirement already satisfied: composable in c:\\users\\mp5667di\\appdata\\local\\anaconda3\\envs\\polars\\lib\\site-packages (0.5.4)Note: you may need to restart the kernel to use updated packages.\n",
      "\n",
      "Requirement already satisfied: python-forge<19.0,>=18.6 in c:\\users\\mp5667di\\appdata\\local\\anaconda3\\envs\\polars\\lib\\site-packages (from composable) (18.6.0)\n",
      "Requirement already satisfied: toolz<0.12.0,>=0.11.1 in c:\\users\\mp5667di\\appdata\\local\\anaconda3\\envs\\polars\\lib\\site-packages (from composable) (0.11.2)\n"
     ]
    }
   ],
   "source": [
    "%pip install composable"
   ]
  },
  {
   "cell_type": "code",
   "execution_count": 5,
   "metadata": {},
   "outputs": [],
   "source": [
    "from composable import pipeable"
   ]
  },
  {
   "cell_type": "code",
   "execution_count": 6,
   "metadata": {},
   "outputs": [],
   "source": [
    "from composable.strict import map, filter"
   ]
  },
  {
   "cell_type": "code",
   "execution_count": 7,
   "metadata": {},
   "outputs": [],
   "source": [
    "import seaborn as sns"
   ]
  },
  {
   "cell_type": "markdown",
   "metadata": {},
   "source": [
    "# Iteration Patterns\n",
    "\n",
    "In this notebook, we will explore two main types of iteration patterns that cover most applications of iteration.  These are\n",
    "\n",
    "1. `reduce`/`fold` for iteration of a predetermined length\n",
    "2. `unfold`/`iterate` for other iteration."
   ]
  },
  {
   "cell_type": "markdown",
   "metadata": {},
   "source": [
    "## Two Types of Iteration\n",
    "\n",
    "- **Count-controlled** iteration has fixed, predetermined length. Examples include `for` loops and comprehensions on existing lists/sets/tuples/dict.\n",
    "- **Condition-controlled.** iteration doesn't end until we meet some condition with a length that can't be predetermined.  Examples include `while` loops, comprehensions on some generator object, and the function `unfold`/`iterate`."
   ]
  },
  {
   "cell_type": "code",
   "execution_count": 8,
   "metadata": {},
   "outputs": [],
   "source": [
    "# while loop can do what for loop does\n",
    "# BUT, for loop is safer than while loop"
   ]
  },
  {
   "cell_type": "markdown",
   "metadata": {},
   "source": [
    "### Example - Coin Flips\n",
    "\n",
    "Suppose that we have a biased coin that comes up heads with probability $p$.  For convenience, we will code a head as the number `1` and a tail as `0`.\n",
    "\n",
    "- **Count-controlled example.** We flip the coin $n$ times and record the number of heads (e.g., the binomial distribution).\n",
    "- **Condition-controlled example.** We flip a coin until we see $k$ successes. "
   ]
  },
  {
   "cell_type": "markdown",
   "metadata": {},
   "source": [
    "#### Example 1 - Flipping a coin a $n$ times"
   ]
  },
  {
   "cell_type": "code",
   "execution_count": 9,
   "metadata": {},
   "outputs": [],
   "source": [
    "from random import random\n",
    "\n",
    "# if number is 1 to p then 1 \n",
    "# random() gives 1 - 0 \n",
    "flip = pipeable(lambda p: 1 if random() <= p else 0) "
   ]
  },
  {
   "cell_type": "code",
   "execution_count": 10,
   "metadata": {},
   "outputs": [],
   "source": [
    "n_flips = pipeable(lambda p, n, i: [flip(p) for j in range(n)])"
   ]
  },
  {
   "cell_type": "code",
   "execution_count": 11,
   "metadata": {},
   "outputs": [
    {
     "data": {
      "text/plain": [
       "[1, 0, 0, 0, 1, 0, 1, 0, 0, 1]"
      ]
     },
     "execution_count": 11,
     "metadata": {},
     "output_type": "execute_result"
    }
   ],
   "source": [
    "n_flips(0.5, 10, 1)"
   ]
  },
  {
   "cell_type": "code",
   "execution_count": 12,
   "metadata": {},
   "outputs": [
    {
     "data": {
      "text/plain": [
       "[[0, 1, 1, 0, 0, 1, 0, 0, 0, 0],\n",
       " [0, 0, 0, 0, 0, 1, 1, 1, 1, 1],\n",
       " [0, 1, 1, 1, 0, 1, 0, 0, 1, 1],\n",
       " [0, 0, 0, 0, 1, 1, 0, 1, 1, 1],\n",
       " [1, 0, 1, 0, 0, 1, 0, 0, 0, 1],\n",
       " [1, 1, 0, 1, 0, 0, 1, 0, 0, 0],\n",
       " [1, 1, 1, 1, 0, 0, 0, 1, 1, 1],\n",
       " [0, 1, 0, 1, 0, 0, 1, 1, 1, 1],\n",
       " [0, 0, 1, 1, 0, 1, 1, 1, 1, 1],\n",
       " [1, 0, 1, 1, 1, 1, 1, 1, 0, 1]]"
      ]
     },
     "execution_count": 12,
     "metadata": {},
     "output_type": "execute_result"
    }
   ],
   "source": [
    "(trials := [n_flips(0.5, 10, i) for i in range(10000)])[:10]"
   ]
  },
  {
   "cell_type": "code",
   "execution_count": 13,
   "metadata": {},
   "outputs": [
    {
     "data": {
      "text/plain": [
       "[3, 5, 6, 5, 4, 4, 7, 6, 7, 8]"
      ]
     },
     "execution_count": 13,
     "metadata": {},
     "output_type": "execute_result"
    }
   ],
   "source": [
    "# 3 (3 = total 1) out of 10 succcesses . . . \n",
    "(successes := [sum(sample) for sample in trials])[:10]"
   ]
  },
  {
   "cell_type": "code",
   "execution_count": 14,
   "metadata": {},
   "outputs": [
    {
     "data": {
      "text/plain": [
       "<Axes: ylabel='Count'>"
      ]
     },
     "execution_count": 14,
     "metadata": {},
     "output_type": "execute_result"
    },
    {
     "data": {
      "image/png": "[encoded data removed]",
      "text/plain": [
       "<Figure size 640x480 with 1 Axes>"
      ]
     },
     "metadata": {},
     "output_type": "display_data"
    }
   ],
   "source": [
    "sns.histplot(successes, discrete=True)"
   ]
  },
  {
   "cell_type": "markdown",
   "metadata": {},
   "source": [
    "#### Main point 1 - We can accumulate the (count-controlled) successes using a `for` loop and the *accumulator* pattern"
   ]
  },
  {
   "cell_type": "code",
   "execution_count": 15,
   "metadata": {},
   "outputs": [
    {
     "data": {
      "text/plain": [
       "5"
      ]
     },
     "execution_count": 15,
     "metadata": {},
     "output_type": "execute_result"
    }
   ],
   "source": [
    "n = 10\n",
    "p = 0.5\n",
    "\n",
    "successes = 0\n",
    "for i in range(n):\n",
    "    successes = successes + flip(p)\n",
    "\n",
    "successes"
   ]
  },
  {
   "cell_type": "markdown",
   "metadata": {},
   "source": [
    "#### Example 2 - Flipping a coin until 5 heads"
   ]
  },
  {
   "cell_type": "code",
   "execution_count": 16,
   "metadata": {},
   "outputs": [],
   "source": [
    "# binomial = try 100 times and count how many suceesses you make\n",
    "# negative binomial = keep shooting until you make 100 success"
   ]
  },
  {
   "cell_type": "code",
   "execution_count": 18,
   "metadata": {},
   "outputs": [
    {
     "name": "stdout",
     "output_type": "stream",
     "text": [
      "Success: 1, Failure: 0\n",
      "Success: 1, Failure: 1\n",
      "Success: 2, Failure: 1\n",
      "Success: 2, Failure: 2\n",
      "Success: 2, Failure: 3\n",
      "Success: 2, Failure: 4\n",
      "Success: 3, Failure: 4\n",
      "Success: 3, Failure: 5\n",
      "Success: 3, Failure: 6\n",
      "Success: 3, Failure: 7\n",
      "Success: 3, Failure: 8\n",
      "Success: 4, Failure: 8\n",
      "Success: 5, Failure: 8\n"
     ]
    }
   ],
   "source": [
    "k = 5\n",
    "failures = 0\n",
    "successes = 0\n",
    "while successes < k:\n",
    "    this_flip = flip(0.5)\n",
    "    successes, failures = successes + this_flip, failures + (1 - this_flip)\n",
    "    print(f\"Success: {successes}, Failure: {failures}\")"
   ]
  },
  {
   "cell_type": "markdown",
   "metadata": {},
   "source": [
    "#### Main point 2 - We can count failures using a `while` loop and the *accumulator* pattern.\n",
    "\n",
    "We will explore this pattern more in the next lecture/notebook."
   ]
  },
  {
   "cell_type": "markdown",
   "metadata": {},
   "source": [
    "## Understanding `reduce`/`fold`\n",
    "\n",
    "We can abstract the accumulator pattern on `for` loops as `reduce` or `fold`.  I will use the `polars` definitions of `fold` and `reduce`\n",
    "\n",
    "- `fold` takes a sequence and an explicit initial value, but\n",
    "- `reduce` uses the first value in the sequence as the initial value."
   ]
  },
  {
   "cell_type": "markdown",
   "metadata": {},
   "source": [
    "#### Previous example - Number of successes in 10 flips"
   ]
  },
  {
   "cell_type": "code",
   "execution_count": 20,
   "metadata": {},
   "outputs": [
    {
     "data": {
      "text/plain": [
       "4"
      ]
     },
     "execution_count": 20,
     "metadata": {},
     "output_type": "execute_result"
    }
   ],
   "source": [
    "n = 10\n",
    "p = 0.5\n",
    "\n",
    "successes = 0\n",
    "for i in range(n):\n",
    "    successes = successes + flip(p)\n",
    "\n",
    "successes"
   ]
  },
  {
   "cell_type": "markdown",
   "metadata": {},
   "source": [
    "#### Pre-generate the sequence (count-controlled)"
   ]
  },
  {
   "cell_type": "code",
   "execution_count": 21,
   "metadata": {},
   "outputs": [
    {
     "data": {
      "text/plain": [
       "[1, 0, 1, 1, 0, 1, 0, 0, 0, 1]"
      ]
     },
     "execution_count": 21,
     "metadata": {},
     "output_type": "execute_result"
    }
   ],
   "source": [
    "n = 10\n",
    "p = 0.5\n",
    "\n",
    "(flips := [flip(p) for i in range(n)])"
   ]
  },
  {
   "cell_type": "markdown",
   "metadata": {},
   "source": [
    "#### We can loop over the count-controlled sequence"
   ]
  },
  {
   "cell_type": "code",
   "execution_count": 22,
   "metadata": {},
   "outputs": [
    {
     "data": {
      "text/plain": [
       "5"
      ]
     },
     "execution_count": 22,
     "metadata": {},
     "output_type": "execute_result"
    }
   ],
   "source": [
    "successes = 0\n",
    "for f in flips:\n",
    "    successes = successes + f\n",
    "\n",
    "successes"
   ]
  },
  {
   "cell_type": "markdown",
   "metadata": {},
   "source": [
    "#### We can abstract the pattern with functions"
   ]
  },
  {
   "cell_type": "code",
   "execution_count": 23,
   "metadata": {},
   "outputs": [],
   "source": [
    "update = pipeable(lambda acc, val: acc + val)"
   ]
  },
  {
   "cell_type": "code",
   "execution_count": 24,
   "metadata": {},
   "outputs": [
    {
     "data": {
      "text/plain": [
       "5"
      ]
     },
     "execution_count": 24,
     "metadata": {},
     "output_type": "execute_result"
    }
   ],
   "source": [
    "acc = 0   # Initial value\n",
    "for f in flips:\n",
    "    acc = update(acc, f)  # Update step\n",
    "\n",
    "acc"
   ]
  },
  {
   "cell_type": "code",
   "execution_count": 25,
   "metadata": {},
   "outputs": [
    {
     "data": {
      "text/plain": [
       "5"
      ]
     },
     "execution_count": 25,
     "metadata": {},
     "output_type": "execute_result"
    }
   ],
   "source": [
    "from operator import add\n",
    "\n",
    "acc = 0   # Initial value\n",
    "for f in flips:\n",
    "    acc = update(acc, f)  # Update step\n",
    "\n",
    "acc"
   ]
  },
  {
   "cell_type": "code",
   "execution_count": 27,
   "metadata": {},
   "outputs": [],
   "source": [
    "@pipeable\n",
    "def fold(update, init, seq):\n",
    "    acc = init\n",
    "    for val in seq:\n",
    "        acc = update(acc, val)\n",
    "    return acc"
   ]
  },
  {
   "cell_type": "code",
   "execution_count": 29,
   "metadata": {},
   "outputs": [
    {
     "data": {
      "text/plain": [
       "5"
      ]
     },
     "execution_count": 29,
     "metadata": {},
     "output_type": "execute_result"
    }
   ],
   "source": [
    "from operator import add\n",
    "\n",
    "fold(add, 0, flips)"
   ]
  },
  {
   "cell_type": "markdown",
   "metadata": {},
   "source": [
    "#### `fold` play nicely with pipes."
   ]
  },
  {
   "cell_type": "code",
   "execution_count": 30,
   "metadata": {},
   "outputs": [],
   "source": [
    "flip_i = pipeable(lambda p, i: flip(p))\n",
    "my_range = pipeable(lambda n: range(n))"
   ]
  },
  {
   "cell_type": "code",
   "execution_count": 31,
   "metadata": {},
   "outputs": [
    {
     "data": {
      "text/plain": [
       "7"
      ]
     },
     "execution_count": 31,
     "metadata": {},
     "output_type": "execute_result"
    }
   ],
   "source": [
    "n = 10\n",
    "p = 0.5\n",
    "\n",
    "(n\n",
    " >> my_range\n",
    " >> map(flip_i(p))\n",
    " >> fold(add, 0)\n",
    ")"
   ]
  },
  {
   "cell_type": "markdown",
   "metadata": {},
   "source": [
    "## `reduce` the sequence using the first value as the initial value\n",
    "\n",
    "Sometimes, we can use the first value in the sequence as the initial value."
   ]
  },
  {
   "cell_type": "code",
   "execution_count": 32,
   "metadata": {},
   "outputs": [
    {
     "data": {
      "text/plain": [
       "[1, 0, 1, 1, 1, 1, 1, 1, 1, 0]"
      ]
     },
     "execution_count": 32,
     "metadata": {},
     "output_type": "execute_result"
    }
   ],
   "source": [
    "n = 10\n",
    "p = 0.5\n",
    "\n",
    "(flips := [flip(p) for i in range(n)])"
   ]
  },
  {
   "cell_type": "code",
   "execution_count": 33,
   "metadata": {},
   "outputs": [
    {
     "data": {
      "text/plain": [
       "8"
      ]
     },
     "execution_count": 33,
     "metadata": {},
     "output_type": "execute_result"
    }
   ],
   "source": [
    "acc = flips[0]\n",
    "for f in flips[1:]:\n",
    "    acc = add(acc, f)\n",
    "\n",
    "acc"
   ]
  },
  {
   "cell_type": "code",
   "execution_count": 34,
   "metadata": {},
   "outputs": [],
   "source": [
    "@pipeable\n",
    "def reduce(update, seq):\n",
    "    acc = seq[0]\n",
    "    for f in seq[1:]:\n",
    "        acc = update(acc, f)\n",
    "    return acc"
   ]
  },
  {
   "cell_type": "code",
   "execution_count": 35,
   "metadata": {},
   "outputs": [
    {
     "data": {
      "text/plain": [
       "8"
      ]
     },
     "execution_count": 35,
     "metadata": {},
     "output_type": "execute_result"
    }
   ],
   "source": [
    "reduce(add, flips)"
   ]
  },
  {
   "cell_type": "code",
   "execution_count": 37,
   "metadata": {},
   "outputs": [
    {
     "data": {
      "text/plain": [
       "3"
      ]
     },
     "execution_count": 37,
     "metadata": {},
     "output_type": "execute_result"
    }
   ],
   "source": [
    "n = 10\n",
    "p = 0.5\n",
    "\n",
    "(n\n",
    " >> my_range\n",
    " >> map(flip_i(p))\n",
    " >> reduce(add)\n",
    ")"
   ]
  },
  {
   "cell_type": "code",
   "execution_count": 38,
   "metadata": {},
   "outputs": [],
   "source": [
    "# reduce takes one less argument"
   ]
  },
  {
   "cell_type": "markdown",
   "metadata": {},
   "source": [
    "### Example - Binomial distribution\n",
    "\n",
    "Now let's use `fold`/`reduce` to generate the binomial distribution"
   ]
  },
  {
   "cell_type": "code",
   "execution_count": 40,
   "metadata": {},
   "outputs": [
    {
     "data": {
      "text/plain": [
       "[[1, 1, 0, 1, 0, 0, 0, 0, 0, 1],\n",
       " [0, 0, 0, 0, 0, 0, 0, 1, 0, 1],\n",
       " [1, 0, 0, 0, 1, 0, 0, 0, 1, 1],\n",
       " [0, 1, 0, 0, 0, 1, 0, 0, 0, 1],\n",
       " [1, 1, 0, 1, 1, 1, 0, 1, 1, 1],\n",
       " [0, 1, 1, 0, 0, 1, 1, 1, 1, 0],\n",
       " [0, 1, 1, 0, 1, 0, 0, 1, 0, 0],\n",
       " [0, 1, 1, 1, 1, 0, 0, 1, 1, 0],\n",
       " [0, 1, 1, 0, 1, 1, 1, 1, 1, 0],\n",
       " [0, 0, 0, 1, 0, 0, 0, 0, 0, 0],\n",
       " [0, 1, 1, 1, 1, 0, 1, 0, 0, 1],\n",
       " [0, 0, 0, 0, 1, 0, 1, 0, 1, 0],\n",
       " [0, 1, 0, 1, 0, 1, 1, 0, 1, 1],\n",
       " [0, 0, 1, 0, 0, 1, 1, 1, 0, 1],\n",
       " [0, 1, 0, 0, 0, 0, 1, 1, 0, 0],\n",
       " [1, 0, 0, 0, 1, 0, 1, 1, 0, 1],\n",
       " [0, 1, 0, 1, 0, 0, 0, 0, 0, 1],\n",
       " [0, 0, 1, 0, 0, 0, 1, 0, 0, 0],\n",
       " [1, 1, 0, 0, 0, 0, 0, 0, 1, 0],\n",
       " [1, 1, 1, 1, 0, 1, 0, 0, 0, 0]]"
      ]
     },
     "execution_count": 40,
     "metadata": {},
     "output_type": "execute_result"
    }
   ],
   "source": [
    "# i = sample number\n",
    "\n",
    "n_flips = pipeable(lambda n, p, i: [flip(p) for j in range(n)])\n",
    "\n",
    "range(20) >> map(n_flips(10, 0.5))"
   ]
  },
  {
   "cell_type": "code",
   "execution_count": 41,
   "metadata": {},
   "outputs": [
    {
     "data": {
      "text/plain": [
       "[[0, 1, 0, 1, 1, 1, 0, 0, 1, 0],\n",
       " [1, 0, 1, 0, 1, 1, 1, 1, 1, 0],\n",
       " [1, 0, 0, 0, 0, 0, 0, 1, 0, 1],\n",
       " [1, 1, 0, 0, 0, 1, 1, 0, 0, 1],\n",
       " [0, 0, 0, 1, 1, 1, 0, 0, 0, 1],\n",
       " [0, 1, 0, 1, 0, 1, 1, 0, 0, 1],\n",
       " [0, 0, 1, 1, 0, 0, 0, 0, 0, 0],\n",
       " [0, 0, 0, 0, 0, 1, 0, 0, 0, 0],\n",
       " [1, 0, 0, 0, 1, 0, 0, 0, 0, 0],\n",
       " [0, 1, 1, 1, 1, 0, 0, 0, 1, 1],\n",
       " [0, 1, 0, 0, 0, 1, 1, 0, 0, 0],\n",
       " [0, 1, 0, 0, 0, 0, 0, 1, 1, 0],\n",
       " [0, 1, 1, 1, 1, 0, 1, 1, 1, 1],\n",
       " [1, 1, 0, 1, 0, 0, 1, 1, 1, 1],\n",
       " [0, 1, 0, 0, 0, 0, 0, 1, 0, 1],\n",
       " [1, 0, 0, 0, 1, 0, 0, 0, 1, 1],\n",
       " [0, 0, 1, 1, 0, 1, 0, 0, 0, 1],\n",
       " [0, 1, 0, 1, 0, 0, 0, 1, 0, 0],\n",
       " [0, 0, 1, 0, 1, 0, 0, 0, 1, 1],\n",
       " [0, 0, 0, 0, 1, 1, 1, 0, 0, 1]]"
      ]
     },
     "execution_count": 41,
     "metadata": {},
     "output_type": "execute_result"
    }
   ],
   "source": [
    "# map, mpa, flip_i ???\n",
    "20 >> my_range >> map(n_flips(10, 0.5))"
   ]
  },
  {
   "cell_type": "code",
   "execution_count": 42,
   "metadata": {},
   "outputs": [
    {
     "data": {
      "text/plain": [
       "[6, 6, 5, 3, 6, 8, 3, 5, 7, 3]"
      ]
     },
     "execution_count": 42,
     "metadata": {},
     "output_type": "execute_result"
    }
   ],
   "source": [
    "N = 10000 # trial number\n",
    "n = 10 # size of the sample\n",
    "p = 0.5\n",
    "\n",
    "(binomial_trials :=\n",
    " N\n",
    " >> my_range\n",
    " >> map(n_flips(10, 0.5)) \n",
    " >> map(fold(add, 0)) # use add instead of predefined sum function\n",
    ")[:10]"
   ]
  },
  {
   "cell_type": "markdown",
   "metadata": {},
   "source": [
    "## Three `for` loop patterns\n",
    "\n",
    "Most all `for` loops are reinventing one of the following patterns.\n",
    "\n",
    "1. **Map**ping a function/transformation unto each value.\n",
    "2. **Filter**ing the values by some boolean condition.\n",
    "3. **Reduce** values to one or more statistics."
   ]
  },
  {
   "cell_type": "code",
   "execution_count": 43,
   "metadata": {},
   "outputs": [],
   "source": [
    "# reduce can do map and"
   ]
  },
  {
   "cell_type": "markdown",
   "metadata": {},
   "source": [
    "### Map example - Convert success totals to proportions"
   ]
  },
  {
   "cell_type": "code",
   "execution_count": 44,
   "metadata": {},
   "outputs": [
    {
     "data": {
      "text/plain": [
       "[0.6, 0.6, 0.5, 0.3, 0.6, 0.8, 0.3, 0.5, 0.7, 0.3]"
      ]
     },
     "execution_count": 44,
     "metadata": {},
     "output_type": "execute_result"
    }
   ],
   "source": [
    "# for loop code here\n",
    "\n",
    "binomial_props = [] # creating an empty list\n",
    "for cnt in binomial_trials:\n",
    "    binomial_props = binomial_props + [cnt/n]\n",
    "\n",
    "binomial_props[:10]"
   ]
  },
  {
   "cell_type": "code",
   "execution_count": 45,
   "metadata": {},
   "outputs": [
    {
     "data": {
      "text/plain": [
       "[0.6, 0.6, 0.5, 0.3, 0.6, 0.8, 0.3, 0.5, 0.7, 0.3]"
      ]
     },
     "execution_count": 45,
     "metadata": {},
     "output_type": "execute_result"
    }
   ],
   "source": [
    "# reduce/fold pipe\n",
    "\n",
    "update_props = lambda props, cnt: props + [cnt/n]\n",
    "(binomial_trials \n",
    " >> fold(update_props, []) \n",
    "    \n",
    ")[:10]"
   ]
  },
  {
   "cell_type": "code",
   "execution_count": 46,
   "metadata": {},
   "outputs": [
    {
     "data": {
      "text/plain": [
       "[0.6, 0.6, 0.5, 0.3, 0.6, 0.8, 0.3, 0.5, 0.7, 0.3]"
      ]
     },
     "execution_count": 46,
     "metadata": {},
     "output_type": "execute_result"
    }
   ],
   "source": [
    "# better option \n",
    "\n",
    "(binomial_trials\n",
    " >> map(lambda cnt: cnt/n)\n",
    ")[:10]"
   ]
  },
  {
   "cell_type": "markdown",
   "metadata": {},
   "source": [
    "### Filter example - Get all values past a critical value\n",
    "\n",
    "**Problem.** Find all trials that were at least 7 success (e.g., 7 is the critical value)"
   ]
  },
  {
   "cell_type": "code",
   "execution_count": 96,
   "metadata": {},
   "outputs": [
    {
     "data": {
      "text/plain": [
       "[7, 4, 6, 4, 5, 7, 4, 4, 6, 4]"
      ]
     },
     "execution_count": 96,
     "metadata": {},
     "output_type": "execute_result"
    }
   ],
   "source": [
    "binomial_trials[:20]"
   ]
  },
  {
   "cell_type": "code",
   "execution_count": 47,
   "metadata": {},
   "outputs": [
    {
     "data": {
      "text/plain": [
       "[8, 8, 8, 8, 8, 8, 8, 8, 8, 8]"
      ]
     },
     "execution_count": 47,
     "metadata": {},
     "output_type": "execute_result"
    }
   ],
   "source": [
    "# Your code here\n",
    "\n",
    "crit_value = 8\n",
    "\n",
    "acc = []\n",
    "for cnt in binomial_trials:\n",
    "    if cnt >= crit_value:\n",
    "        acc = acc + [cnt]\n",
    "acc[:10]"
   ]
  },
  {
   "cell_type": "code",
   "execution_count": 48,
   "metadata": {},
   "outputs": [
    {
     "data": {
      "text/plain": [
       "[8, 8, 8, 8, 8, 8, 8, 8, 8, 8]"
      ]
     },
     "execution_count": 48,
     "metadata": {},
     "output_type": "execute_result"
    }
   ],
   "source": [
    "\n",
    "acc = []\n",
    "for cnt in binomial_trials:\n",
    "    acc = acc + [cnt] if cnt >= crit_value else acc\n",
    "\n",
    "acc[:10]"
   ]
  },
  {
   "cell_type": "code",
   "execution_count": 49,
   "metadata": {},
   "outputs": [
    {
     "data": {
      "text/plain": [
       "[8, 8, 8, 8, 8, 8, 8, 8, 8, 8]"
      ]
     },
     "execution_count": 49,
     "metadata": {},
     "output_type": "execute_result"
    }
   ],
   "source": [
    "update_cv = lambda acc, cnt: acc + [cnt] if cnt >= crit_value else acc\n",
    "\n",
    "(binomial_trials\n",
    "    >> fold(update_cv, [])\n",
    ")[:10]"
   ]
  },
  {
   "cell_type": "code",
   "execution_count": 50,
   "metadata": {},
   "outputs": [
    {
     "data": {
      "text/plain": [
       "[8, 8, 8, 8, 8, 8, 8, 8, 8, 8]"
      ]
     },
     "execution_count": 50,
     "metadata": {},
     "output_type": "execute_result"
    }
   ],
   "source": [
    "(binomial_trials\n",
    " >> filter(lambda cnt: cnt >= crit_value)\n",
    ")[:10]"
   ]
  },
  {
   "cell_type": "markdown",
   "metadata": {},
   "source": [
    "### Reduce Example - Estimate the p-\n",
    "\n",
    "Suppose we want to know if our coin is biased, with fewer than 50% heads. To find evidence of this, we would compute the p-value using a null distribution with $p = 0.5$\n",
    "\n",
    "Suppose we observe $x = 3$ heads. Estimate the p-value of this statistics. "
   ]
  },
  {
   "cell_type": "code",
   "execution_count": 51,
   "metadata": {},
   "outputs": [
    {
     "data": {
      "text/plain": [
       "0.1762"
      ]
     },
     "execution_count": 51,
     "metadata": {},
     "output_type": "execute_result"
    }
   ],
   "source": [
    "# for loop code here\n",
    "# count and find how many of them are at/below \n",
    "\n",
    "acc = 0\n",
    "for cnt in binomial_trials:\n",
    "    acc = acc + 1 if cnt <= 3 else acc\n",
    "\n",
    "(p_value := acc/N)"
   ]
  },
  {
   "cell_type": "code",
   "execution_count": 52,
   "metadata": {},
   "outputs": [
    {
     "data": {
      "text/plain": [
       "0.1762"
      ]
     },
     "execution_count": 52,
     "metadata": {},
     "output_type": "execute_result"
    }
   ],
   "source": [
    "# fold code here\n",
    "\n",
    "count = lambda acc, val: acc + 1 if val <= 3 else acc\n",
    "\n",
    "(binomial_trials\n",
    " >> fold(count, 0)\n",
    ")/N"
   ]
  },
  {
   "cell_type": "code",
   "execution_count": 53,
   "metadata": {},
   "outputs": [
    {
     "ename": "NameError",
     "evalue": "name 'NOPE_CANNOT_BE_DONE' is not defined",
     "output_type": "error",
     "traceback": [
      "\u001b[1;31m---------------------------------------------------------------------------\u001b[0m",
      "\u001b[1;31mNameError\u001b[0m                                 Traceback (most recent call last)",
      "Cell \u001b[1;32mIn[53], line 3\u001b[0m\n\u001b[0;32m      1\u001b[0m \u001b[38;5;66;03m# reduce code here\u001b[39;00m\n\u001b[1;32m----> 3\u001b[0m update_for_reduce \u001b[38;5;241m=\u001b[39m \u001b[43mNOPE_CANNOT_BE_DONE\u001b[49m\n\u001b[0;32m      5\u001b[0m (binomial_trials\n\u001b[0;32m      6\u001b[0m  \u001b[38;5;241m>>\u001b[39m reduce(update_for_reduce, \u001b[38;5;241m0\u001b[39m)\n\u001b[0;32m      7\u001b[0m )\n",
      "\u001b[1;31mNameError\u001b[0m: name 'NOPE_CANNOT_BE_DONE' is not defined"
     ]
    }
   ],
   "source": [
    "# reduce code here\n",
    "\n",
    "update_for_reduce = NOPE_CANNOT_BE_DONE\n",
    "\n",
    "(binomial_trials\n",
    " >> reduce(update_for_reduce, 0)\n",
    ")"
   ]
  },
  {
   "cell_type": "markdown",
   "metadata": {},
   "source": [
    "### <font color=\"red\"> Exercise 2.4 </font>\n",
    "\n",
    "Redo the last three examples, but this time use $p=0.25$ and $n = 5$\n",
    "\n",
    "Use the reduce pattern to compute the total time by\n",
    "\n",
    "1. Use a `for` loop with an accumulator first, then\n",
    "2. Refactor the code to use `reduce`, and finally\n",
    "3. Discuss your (A) initial value and (B) update function and how they relate to the loop."
   ]
  },
  {
   "cell_type": "code",
   "execution_count": 56,
   "metadata": {},
   "outputs": [
    {
     "data": {
      "text/plain": [
       "[2, 1, 0, 1, 3, 1, 2, 2, 1, 0]"
      ]
     },
     "execution_count": 56,
     "metadata": {},
     "output_type": "execute_result"
    }
   ],
   "source": [
    "# Your code here\n",
    "N = 10000 # trial number\n",
    "n = 5 # size of the sample\n",
    "p = 0.25\n",
    "\n",
    "(binomial_trials :=\n",
    " N\n",
    " >> my_range\n",
    " >> map(n_flips(5, 0.25)) \n",
    " >> map(fold(add, 0)) # use add instead of predefined sum function\n",
    ")[:10]"
   ]
  },
  {
   "cell_type": "code",
   "execution_count": 58,
   "metadata": {},
   "outputs": [
    {
     "data": {
      "text/plain": [
       "[0.4, 0.2, 0.0, 0.2, 0.6, 0.2, 0.4, 0.4, 0.2, 0.0]"
      ]
     },
     "execution_count": 58,
     "metadata": {},
     "output_type": "execute_result"
    }
   ],
   "source": [
    "# for loop code\n",
    "\n",
    "binomial_props = [] # creating an empty list\n",
    "for cnt in binomial_trials:\n",
    "    binomial_props = binomial_props + [cnt/n]\n",
    "\n",
    "binomial_props[:10]"
   ]
  },
  {
   "cell_type": "code",
   "execution_count": 62,
   "metadata": {},
   "outputs": [
    {
     "data": {
      "text/plain": [
       "[0.4, 0.2, 0.0, 0.2, 0.6, 0.2, 0.4, 0.4, 0.2, 0.0]"
      ]
     },
     "execution_count": 62,
     "metadata": {},
     "output_type": "execute_result"
    }
   ],
   "source": [
    "# reduce/fold code\n",
    "\n",
    "update_props = lambda props, cnt: props + [cnt/n]\n",
    "\n",
    "(binomial_trials \n",
    " >> fold(update_props, []) \n",
    " \n",
    ")[:10]"
   ]
  },
  {
   "cell_type": "markdown",
   "metadata": {},
   "source": [
    "<font color=\"orange\">\n",
    "    Your discussion here.\n",
    "</font>"
   ]
  },
  {
   "cell_type": "code",
   "execution_count": null,
   "metadata": {},
   "outputs": [],
   "source": [
    "# My initial values from for loop and values from refactored reduce code are the same. \n",
    "# My refactored code is similar to the for loop.\n",
    "# I have to include the lambda function inside the fold() statement. "
   ]
  }
 ],
 "metadata": {
  "celltoolbar": "Slideshow",
  "kernelspec": {
   "display_name": "Python 3 (ipykernel)",
   "language": "python",
   "name": "python3"
  },
  "language_info": {
   "codemirror_mode": {
    "name": "ipython",
    "version": 3
   },
   "file_extension": ".py",
   "mimetype": "text/x-python",
   "name": "python",
   "nbconvert_exporter": "python",
   "pygments_lexer": "ipython3",
   "version": "3.12.7"
  },
  "varInspector": {
   "cols": {
    "lenName": 16,
    "lenType": 16,
    "lenVar": 40
   },
   "kernels_config": {
    "python": {
     "delete_cmd_postfix": "",
     "delete_cmd_prefix": "del ",
     "library": "var_list.py",
     "varRefreshCmd": "print(var_dic_list())"
    },
    "r": {
     "delete_cmd_postfix": ") ",
     "delete_cmd_prefix": "rm(",
     "library": "var_list.r",
     "varRefreshCmd": "cat(var_dic_list()) "
    }
   },
   "types_to_exclude": [
    "module",
    "function",
    "builtin_function_or_method",
    "instance",
    "_Feature"
   ],
   "window_display": false
  }
 },
 "nbformat": 4,
 "nbformat_minor": 4
}
