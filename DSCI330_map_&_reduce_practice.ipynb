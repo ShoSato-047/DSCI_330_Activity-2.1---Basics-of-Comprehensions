{
  "nbformat": 4,
  "nbformat_minor": 0,
  "metadata": {
    "colab": {
      "provenance": [],
      "authorship_tag": "ABX9TyONwbmffyBdlZpraiXq+iKV",
      "include_colab_link": true
    },
    "kernelspec": {
      "name": "python3",
      "display_name": "Python 3"
    },
    "language_info": {
      "name": "python"
    }
  },
  "cells": [
    {
      "cell_type": "markdown",
      "metadata": {
        "id": "view-in-github",
        "colab_type": "text"
      },
      "source": [
        "<a href=\"https://colab.research.google.com/github/ShoSato-047/DSCI_330_Activity-2.1---Basics-of-Comprehensions/blob/main/DSCI330_map_%26_reduce_practice.ipynb\" target=\"_parent\"><img src=\"https://colab.research.google.com/assets/colab-badge.svg\" alt=\"Open In Colab\"/></a>"
      ]
    },
    {
      "cell_type": "markdown",
      "source": [
        "# **Map()**\n",
        "**The map() function applies a given function to all items in an iterable (e.g., a list) and returns a map object (which can be converted to a list or another iterable).**"
      ],
      "metadata": {
        "id": "JknINevM14Dx"
      }
    },
    {
      "cell_type": "code",
      "source": [
        "# Example: Squaring each number in a list\n",
        "numbers = [1, 2, 3, 4, 5]\n",
        "squared_numbers = list(map(lambda x: x ** 2, numbers))\n",
        "print(squared_numbers)  # Output: [1, 4, 9, 16, 25]"
      ],
      "metadata": {
        "colab": {
          "base_uri": "https://localhost:8080/"
        },
        "id": "TdsdSdt62R6E",
        "outputId": "52c74f17-98b5-4f89-8d06-a23aabaa96d9"
      },
      "execution_count": 6,
      "outputs": [
        {
          "output_type": "stream",
          "name": "stdout",
          "text": [
            "[1, 4, 9, 16, 25]\n"
          ]
        }
      ]
    },
    {
      "cell_type": "markdown",
      "source": [
        "# <font color = red> Problem 1:\n",
        "You have a list of temperatures in Celsius:\n",
        "[0, 10, 20, 30, 40]\n",
        "Convert them to Fahrenheit using map().\n",
        "(The formula is: F = C * 9/5 + 32)"
      ],
      "metadata": {
        "id": "g78aMTHu011t"
      }
    },
    {
      "cell_type": "code",
      "source": [
        "temp_cels = [0, 10, 20, 30, 40]\n",
        "print(temp_cels)"
      ],
      "metadata": {
        "colab": {
          "base_uri": "https://localhost:8080/"
        },
        "id": "1gm423st3bnj",
        "outputId": "2fe708ce-b9c2-4c81-9589-cc6c0c5bc4ce"
      },
      "execution_count": 9,
      "outputs": [
        {
          "output_type": "stream",
          "name": "stdout",
          "text": [
            "[0, 10, 20, 30, 40]\n"
          ]
        }
      ]
    },
    {
      "cell_type": "code",
      "execution_count": 5,
      "metadata": {
        "colab": {
          "base_uri": "https://localhost:8080/"
        },
        "id": "Xvb_EjgJ0m3g",
        "outputId": "5de92e33-e4c4-446f-e3bc-636984ccc988"
      },
      "outputs": [
        {
          "output_type": "stream",
          "name": "stdout",
          "text": [
            "[32.0, 50.0, 68.0, 86.0, 104.0]\n"
          ]
        }
      ],
      "source": [
        "c_to_f = lambda C: C * 9/5 + 32\n",
        "temp_fahr = map(c_to_f, temp_cels)\n",
        "\n",
        "print(list(temp_fahr))"
      ]
    },
    {
      "cell_type": "markdown",
      "source": [
        "# <font color = red> Problem 2:\n",
        "Capitalize the first letter of each word in a sentence (Using map())\n",
        "Problem:\n",
        "\n",
        "Given a sentence \"hello world, welcome to python\", capitalize the first letter of each word."
      ],
      "metadata": {
        "id": "M4k7sODS2qpX"
      }
    },
    {
      "cell_type": "code",
      "source": [
        "sentence = \"hello world, welcome to python\"\n",
        "print(sentence)"
      ],
      "metadata": {
        "colab": {
          "base_uri": "https://localhost:8080/"
        },
        "id": "4j6oLUmw3BZl",
        "outputId": "a74e3eab-d795-41df-b0d5-94a62b104f01"
      },
      "execution_count": 8,
      "outputs": [
        {
          "output_type": "stream",
          "name": "stdout",
          "text": [
            "hello world, welcome to python\n"
          ]
        }
      ]
    },
    {
      "cell_type": "code",
      "source": [
        "words = sentence.split()\n",
        "words"
      ],
      "metadata": {
        "colab": {
          "base_uri": "https://localhost:8080/"
        },
        "id": "szH46mpQ3Ylt",
        "outputId": "350935db-1b71-45aa-a33b-1c3f6021a638"
      },
      "execution_count": 11,
      "outputs": [
        {
          "output_type": "execute_result",
          "data": {
            "text/plain": [
              "['hello', 'world,', 'welcome', 'to', 'python']"
            ]
          },
          "metadata": {},
          "execution_count": 11
        }
      ]
    },
    {
      "cell_type": "code",
      "source": [
        "capitalized_words =lambda w: w.capitalize()\n",
        "\n",
        "capitalized_sentences = list(map(capitalized_words, words))\n",
        "\n",
        "new_sentence = \" \".join(capitalized_sentences)\n",
        "new_sentence"
      ],
      "metadata": {
        "colab": {
          "base_uri": "https://localhost:8080/",
          "height": 36
        },
        "id": "BUf31QSt4LNB",
        "outputId": "098ebdb9-7631-4dec-f7d9-9ae534408edc"
      },
      "execution_count": 15,
      "outputs": [
        {
          "output_type": "execute_result",
          "data": {
            "text/plain": [
              "'Hello World, Welcome To Python'"
            ],
            "application/vnd.google.colaboratory.intrinsic+json": {
              "type": "string"
            }
          },
          "metadata": {},
          "execution_count": 15
        }
      ]
    },
    {
      "cell_type": "markdown",
      "source": [
        "# **Reduce()**\n",
        "**The reduce() function (from functools) applies a function cumulatively to the elements of an iterable, reducing them to a single value.**"
      ],
      "metadata": {
        "id": "H45QF0V62DCl"
      }
    },
    {
      "cell_type": "code",
      "source": [
        "from functools import reduce\n",
        "\n",
        "# Example: Calculating the product of all numbers in a list\n",
        "numbers = [1, 2, 3, 4, 5]\n",
        "product = reduce(lambda x, y: x * y, numbers)\n",
        "print(product)  # Output: 120 (1*2*3*4*5)"
      ],
      "metadata": {
        "colab": {
          "base_uri": "https://localhost:8080/"
        },
        "id": "dFWtjNFU2TtU",
        "outputId": "cfdd8b9c-7d3f-48cb-de90-4473915ee85a"
      },
      "execution_count": 7,
      "outputs": [
        {
          "output_type": "stream",
          "name": "stdout",
          "text": [
            "120\n"
          ]
        }
      ]
    },
    {
      "cell_type": "markdown",
      "source": [
        "# <font color = red> Problem 3:\n",
        "Find the longest word in a list (Using reduce())\n",
        "\n",
        "Problem:\n",
        "Given a list of words, find the longest one using reduce()."
      ],
      "metadata": {
        "id": "164cpV8b5qM8"
      }
    },
    {
      "cell_type": "code",
      "source": [
        "from functools import reduce\n",
        "\n",
        "words = [\"apple\", \"banana\", \"cherry\", \"blueberry\", \"strawberry\"]\n",
        "words"
      ],
      "metadata": {
        "colab": {
          "base_uri": "https://localhost:8080/"
        },
        "id": "1OnkblBM1BLJ",
        "outputId": "761a2728-48ce-432c-a2a0-22df4dae5bb5"
      },
      "execution_count": 16,
      "outputs": [
        {
          "output_type": "execute_result",
          "data": {
            "text/plain": [
              "['apple', 'banana', 'cherry', 'blueberry', 'strawberry']"
            ]
          },
          "metadata": {},
          "execution_count": 16
        }
      ]
    },
    {
      "cell_type": "code",
      "source": [
        "longest_words = reduce(lambda x, y: x if len(x) > len(y) else y, words)\n",
        "longest_words"
      ],
      "metadata": {
        "colab": {
          "base_uri": "https://localhost:8080/",
          "height": 36
        },
        "id": "qp3_moq656IN",
        "outputId": "45baba36-92b5-405a-e1d1-40f2066bdc10"
      },
      "execution_count": 18,
      "outputs": [
        {
          "output_type": "execute_result",
          "data": {
            "text/plain": [
              "'strawberry'"
            ],
            "application/vnd.google.colaboratory.intrinsic+json": {
              "type": "string"
            }
          },
          "metadata": {},
          "execution_count": 18
        }
      ]
    },
    {
      "cell_type": "markdown",
      "source": [
        "# <font color = red> Problem 4:\n",
        "Compute the product of all numbers in a list (Using reduce())\n",
        "\n",
        "Problem: Given a list of numbers [3, 4, 5, 6], compute the product of all numbers."
      ],
      "metadata": {
        "id": "JyWKuRw87Z7P"
      }
    },
    {
      "cell_type": "code",
      "source": [
        "numbers = [3, 4, 5, 6]\n",
        "numbers"
      ],
      "metadata": {
        "colab": {
          "base_uri": "https://localhost:8080/"
        },
        "id": "TJOxvkpp7T6o",
        "outputId": "a69f63bb-5bbf-4ce8-8bb2-c1560a102333"
      },
      "execution_count": 19,
      "outputs": [
        {
          "output_type": "execute_result",
          "data": {
            "text/plain": [
              "[3, 4, 5, 6]"
            ]
          },
          "metadata": {},
          "execution_count": 19
        }
      ]
    },
    {
      "cell_type": "code",
      "source": [
        "product = reduce(lambda x, y: x*y, numbers)\n",
        "product"
      ],
      "metadata": {
        "colab": {
          "base_uri": "https://localhost:8080/"
        },
        "id": "BsKvE5PT7xhU",
        "outputId": "dbe648bb-a27f-4c92-a86a-11375656c83e"
      },
      "execution_count": 20,
      "outputs": [
        {
          "output_type": "execute_result",
          "data": {
            "text/plain": [
              "360"
            ]
          },
          "metadata": {},
          "execution_count": 20
        }
      ]
    },
    {
      "cell_type": "markdown",
      "source": [
        "# <font color = red> Problem 5:\n",
        "\n",
        "Calculate the total price of items with a discount (Using map() and reduce())\n",
        "\n",
        "Problem: You have a list of item prices [100, 200, 300, 400]. Apply a 10% discount to each price and find the total cost."
      ],
      "metadata": {
        "id": "p9ac5gRb8eFp"
      }
    },
    {
      "cell_type": "code",
      "source": [
        " prices = [100, 200, 300, 400]\n",
        " prices"
      ],
      "metadata": {
        "colab": {
          "base_uri": "https://localhost:8080/"
        },
        "id": "c6-AMwYC8mO5",
        "outputId": "9da09c7b-22e0-412c-f539-8d470a830fb8"
      },
      "execution_count": 21,
      "outputs": [
        {
          "output_type": "execute_result",
          "data": {
            "text/plain": [
              "[100, 200, 300, 400]"
            ]
          },
          "metadata": {},
          "execution_count": 21
        }
      ]
    },
    {
      "cell_type": "code",
      "source": [
        "discount = list(map(lambda x: x*0.9, prices))\n",
        "discount"
      ],
      "metadata": {
        "colab": {
          "base_uri": "https://localhost:8080/"
        },
        "id": "u8FnSQii81mS",
        "outputId": "a0d85cd0-4bc5-45dd-a1d4-dd4e5fdac707"
      },
      "execution_count": 23,
      "outputs": [
        {
          "output_type": "execute_result",
          "data": {
            "text/plain": [
              "[90.0, 180.0, 270.0, 360.0]"
            ]
          },
          "metadata": {},
          "execution_count": 23
        }
      ]
    },
    {
      "cell_type": "code",
      "source": [
        "total_prices = reduce(lambda x,y: x+y, discount)\n",
        "total_prices"
      ],
      "metadata": {
        "colab": {
          "base_uri": "https://localhost:8080/"
        },
        "id": "cKphw6Pm9mWh",
        "outputId": "089d600b-eb18-4fd7-840a-8e9f6e88661f"
      },
      "execution_count": 24,
      "outputs": [
        {
          "output_type": "execute_result",
          "data": {
            "text/plain": [
              "900.0"
            ]
          },
          "metadata": {},
          "execution_count": 24
        }
      ]
    }
  ]
}