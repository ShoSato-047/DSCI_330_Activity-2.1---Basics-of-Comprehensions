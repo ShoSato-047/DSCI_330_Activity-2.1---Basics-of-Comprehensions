{
  "nbformat": 4,
  "nbformat_minor": 0,
  "metadata": {
    "colab": {
      "provenance": [],
      "authorship_tag": "ABX9TyNNc+ZAfQJaH5mg6b95JaL2",
      "include_colab_link": true
    },
    "kernelspec": {
      "name": "python3",
      "display_name": "Python 3"
    },
    "language_info": {
      "name": "python"
    }
  },
  "cells": [
    {
      "cell_type": "markdown",
      "metadata": {
        "id": "view-in-github",
        "colab_type": "text"
      },
      "source": [
        "<a href=\"https://colab.research.google.com/github/ShoSato-047/DSCI_330_module_2/blob/main/DSCI330_map_%26_reduce_practice.ipynb\" target=\"_parent\"><img src=\"https://colab.research.google.com/assets/colab-badge.svg\" alt=\"Open In Colab\"/></a>"
      ]
    },
    {
      "cell_type": "markdown",
      "source": [
        "# **Map()**\n",
        "**The map() function applies a given function to all items in an iterable (e.g., a list) and returns a map object (which can be converted to a list or another iterable).**"
      ],
      "metadata": {
        "id": "JknINevM14Dx"
      }
    },
    {
      "cell_type": "code",
      "source": [
        "# Example: Squaring each number in a list\n",
        "numbers = [1, 2, 3, 4, 5]\n",
        "squared_numbers = list(map(lambda x: x ** 2, numbers))\n",
        "print(squared_numbers)  # Output: [1, 4, 9, 16, 25]"
      ],
      "metadata": {
        "colab": {
          "base_uri": "https://localhost:8080/"
        },
        "id": "TdsdSdt62R6E",
        "outputId": "378f7bd3-06c6-4a00-b38e-a3ea074d13e1"
      },
      "execution_count": 1,
      "outputs": [
        {
          "output_type": "stream",
          "name": "stdout",
          "text": [
            "[1, 4, 9, 16, 25]\n"
          ]
        }
      ]
    },
    {
      "cell_type": "markdown",
      "source": [
        "# <font color = red> Problem 1:\n",
        "You have a list of temperatures in Celsius:\n",
        "[0, 10, 20, 30, 40]\n",
        "Convert them to Fahrenheit using map().\n",
        "(The formula is: F = C * 9/5 + 32)"
      ],
      "metadata": {
        "id": "g78aMTHu011t"
      }
    },
    {
      "cell_type": "code",
      "source": [
        "temp_cels = [0, 10, 20, 30, 40]\n",
        "print(temp_cels)"
      ],
      "metadata": {
        "colab": {
          "base_uri": "https://localhost:8080/"
        },
        "id": "1gm423st3bnj",
        "outputId": "da3056e1-a22f-4fcb-a213-8b05f1e27a9a"
      },
      "execution_count": 2,
      "outputs": [
        {
          "output_type": "stream",
          "name": "stdout",
          "text": [
            "[0, 10, 20, 30, 40]\n"
          ]
        }
      ]
    },
    {
      "cell_type": "code",
      "execution_count": 3,
      "metadata": {
        "colab": {
          "base_uri": "https://localhost:8080/"
        },
        "id": "Xvb_EjgJ0m3g",
        "outputId": "c4d9f5d4-0993-4c53-9a01-b724d662afd2"
      },
      "outputs": [
        {
          "output_type": "stream",
          "name": "stdout",
          "text": [
            "[32.0, 50.0, 68.0, 86.0, 104.0]\n"
          ]
        }
      ],
      "source": [
        "c_to_f = lambda C: C * 9/5 + 32\n",
        "temp_fahr = map(c_to_f, temp_cels)\n",
        "\n",
        "print(list(temp_fahr))"
      ]
    },
    {
      "cell_type": "markdown",
      "source": [
        "# <font color = red> Problem 2:\n",
        "Capitalize the first letter of each word in a sentence (Using map())\n",
        "Problem:\n",
        "\n",
        "Given a sentence \"hello world, welcome to python\", capitalize the first letter of each word."
      ],
      "metadata": {
        "id": "M4k7sODS2qpX"
      }
    },
    {
      "cell_type": "code",
      "source": [
        "sentence = \"hello world, welcome to python\"\n",
        "print(sentence)"
      ],
      "metadata": {
        "colab": {
          "base_uri": "https://localhost:8080/"
        },
        "id": "4j6oLUmw3BZl",
        "outputId": "66c032ce-cd78-4b45-c91f-cc4e27ebdac7"
      },
      "execution_count": 4,
      "outputs": [
        {
          "output_type": "stream",
          "name": "stdout",
          "text": [
            "hello world, welcome to python\n"
          ]
        }
      ]
    },
    {
      "cell_type": "code",
      "source": [
        "words = sentence.split()\n",
        "words"
      ],
      "metadata": {
        "colab": {
          "base_uri": "https://localhost:8080/"
        },
        "id": "szH46mpQ3Ylt",
        "outputId": "2a2b0ef5-8f13-46bf-a833-d01368040a2e"
      },
      "execution_count": 5,
      "outputs": [
        {
          "output_type": "execute_result",
          "data": {
            "text/plain": [
              "['hello', 'world,', 'welcome', 'to', 'python']"
            ]
          },
          "metadata": {},
          "execution_count": 5
        }
      ]
    },
    {
      "cell_type": "code",
      "source": [
        "capitalized_words =lambda w: w.capitalize()\n",
        "\n",
        "capitalized_sentences = list(map(capitalized_words, words))\n",
        "\n",
        "new_sentence = \" \".join(capitalized_sentences)\n",
        "new_sentence"
      ],
      "metadata": {
        "colab": {
          "base_uri": "https://localhost:8080/",
          "height": 36
        },
        "id": "BUf31QSt4LNB",
        "outputId": "ec9c79e7-abbf-4fe6-c60b-4dcb02e5be46"
      },
      "execution_count": 6,
      "outputs": [
        {
          "output_type": "execute_result",
          "data": {
            "text/plain": [
              "'Hello World, Welcome To Python'"
            ],
            "application/vnd.google.colaboratory.intrinsic+json": {
              "type": "string"
            }
          },
          "metadata": {},
          "execution_count": 6
        }
      ]
    },
    {
      "cell_type": "markdown",
      "source": [
        "# **Reduce()**\n",
        "**The reduce() function (from functools) applies a function cumulatively to the elements of an iterable, reducing them to a single value.**"
      ],
      "metadata": {
        "id": "H45QF0V62DCl"
      }
    },
    {
      "cell_type": "code",
      "source": [
        "from functools import reduce\n",
        "\n",
        "# Example: Calculating the product of all numbers in a list\n",
        "numbers = [1, 2, 3, 4, 5]\n",
        "product = reduce(lambda x, y: x * y, numbers)\n",
        "print(product)  # Output: 120 (1*2*3*4*5)"
      ],
      "metadata": {
        "colab": {
          "base_uri": "https://localhost:8080/"
        },
        "id": "dFWtjNFU2TtU",
        "outputId": "9576e66e-85fc-413d-87c6-898dea1eb28e"
      },
      "execution_count": 7,
      "outputs": [
        {
          "output_type": "stream",
          "name": "stdout",
          "text": [
            "120\n"
          ]
        }
      ]
    },
    {
      "cell_type": "markdown",
      "source": [
        "# <font color = red> Problem 3:\n",
        "Find the longest word in a list (Using reduce())\n",
        "\n",
        "Problem:\n",
        "Given a list of words, find the longest one using reduce()."
      ],
      "metadata": {
        "id": "164cpV8b5qM8"
      }
    },
    {
      "cell_type": "code",
      "source": [
        "from functools import reduce\n",
        "\n",
        "words = [\"apple\", \"banana\", \"cherry\", \"blueberry\", \"strawberry\"]\n",
        "words"
      ],
      "metadata": {
        "colab": {
          "base_uri": "https://localhost:8080/"
        },
        "id": "1OnkblBM1BLJ",
        "outputId": "3a3110f9-cfae-4cd9-c697-9fffd80c667b"
      },
      "execution_count": 8,
      "outputs": [
        {
          "output_type": "execute_result",
          "data": {
            "text/plain": [
              "['apple', 'banana', 'cherry', 'blueberry', 'strawberry']"
            ]
          },
          "metadata": {},
          "execution_count": 8
        }
      ]
    },
    {
      "cell_type": "code",
      "source": [
        "longest_words = reduce(lambda x, y: x if len(x) > len(y) else y, words)\n",
        "longest_words"
      ],
      "metadata": {
        "colab": {
          "base_uri": "https://localhost:8080/",
          "height": 36
        },
        "id": "qp3_moq656IN",
        "outputId": "67619bff-e55a-4cd1-dfff-e7d19f950176"
      },
      "execution_count": 9,
      "outputs": [
        {
          "output_type": "execute_result",
          "data": {
            "text/plain": [
              "'strawberry'"
            ],
            "application/vnd.google.colaboratory.intrinsic+json": {
              "type": "string"
            }
          },
          "metadata": {},
          "execution_count": 9
        }
      ]
    },
    {
      "cell_type": "markdown",
      "source": [
        "# <font color = red> Problem 4:\n",
        "Compute the product of all numbers in a list (Using reduce())\n",
        "\n",
        "Problem: Given a list of numbers [3, 4, 5, 6], compute the product of all numbers."
      ],
      "metadata": {
        "id": "JyWKuRw87Z7P"
      }
    },
    {
      "cell_type": "code",
      "source": [
        "numbers = [3, 4, 5, 6]\n",
        "numbers"
      ],
      "metadata": {
        "colab": {
          "base_uri": "https://localhost:8080/"
        },
        "id": "TJOxvkpp7T6o",
        "outputId": "bd5c9221-2dff-4e49-f56a-f6bdd2395de3"
      },
      "execution_count": 10,
      "outputs": [
        {
          "output_type": "execute_result",
          "data": {
            "text/plain": [
              "[3, 4, 5, 6]"
            ]
          },
          "metadata": {},
          "execution_count": 10
        }
      ]
    },
    {
      "cell_type": "code",
      "source": [
        "product = reduce(lambda x, y: x*y, numbers)\n",
        "product"
      ],
      "metadata": {
        "colab": {
          "base_uri": "https://localhost:8080/"
        },
        "id": "BsKvE5PT7xhU",
        "outputId": "06b1efb3-e4cf-470b-b55d-7ce773d8d961"
      },
      "execution_count": 11,
      "outputs": [
        {
          "output_type": "execute_result",
          "data": {
            "text/plain": [
              "360"
            ]
          },
          "metadata": {},
          "execution_count": 11
        }
      ]
    },
    {
      "cell_type": "markdown",
      "source": [
        "# <font color = red> Problem 5:\n",
        "\n",
        "Calculate the total price of items with a discount (Using map() and reduce())\n",
        "\n",
        "Problem: You have a list of item prices [100, 200, 300, 400]. Apply a 10% discount to each price and find the total cost."
      ],
      "metadata": {
        "id": "p9ac5gRb8eFp"
      }
    },
    {
      "cell_type": "code",
      "source": [
        " prices = [100, 200, 300, 400]\n",
        " prices"
      ],
      "metadata": {
        "colab": {
          "base_uri": "https://localhost:8080/"
        },
        "id": "c6-AMwYC8mO5",
        "outputId": "fef1ff32-3441-4930-fc55-c8bef230f79b"
      },
      "execution_count": 12,
      "outputs": [
        {
          "output_type": "execute_result",
          "data": {
            "text/plain": [
              "[100, 200, 300, 400]"
            ]
          },
          "metadata": {},
          "execution_count": 12
        }
      ]
    },
    {
      "cell_type": "code",
      "source": [
        "discount = list(map(lambda x: x*0.9, prices))\n",
        "discount"
      ],
      "metadata": {
        "colab": {
          "base_uri": "https://localhost:8080/"
        },
        "id": "u8FnSQii81mS",
        "outputId": "b3c61f6c-af60-4f42-fae1-ac32d0804939"
      },
      "execution_count": 13,
      "outputs": [
        {
          "output_type": "execute_result",
          "data": {
            "text/plain": [
              "[90.0, 180.0, 270.0, 360.0]"
            ]
          },
          "metadata": {},
          "execution_count": 13
        }
      ]
    },
    {
      "cell_type": "code",
      "source": [
        "total_prices = reduce(lambda x,y: x+y, discount)\n",
        "total_prices"
      ],
      "metadata": {
        "colab": {
          "base_uri": "https://localhost:8080/"
        },
        "id": "cKphw6Pm9mWh",
        "outputId": "184bc812-60a6-4c26-f4ff-59e825ffa8ed"
      },
      "execution_count": 14,
      "outputs": [
        {
          "output_type": "execute_result",
          "data": {
            "text/plain": [
              "900.0"
            ]
          },
          "metadata": {},
          "execution_count": 14
        }
      ]
    },
    {
      "cell_type": "markdown",
      "source": [
        "# <font color = red> Problem 6:\n",
        "Compute the total price of items after applying tax.\n",
        "\n",
        "You have a list of item prices before tax:\n",
        "prices = [50, 100, 150, 200]\n",
        "\n",
        "The sales tax rate is 10% (0.10).\n",
        "\n",
        "  - Use map() to apply the tax to each price.\n",
        "  - Use reduce() to calculate the total cost after tax."
      ],
      "metadata": {
        "id": "Zd5Mk_mqOVJA"
      }
    },
    {
      "cell_type": "code",
      "source": [
        "prices = [50, 100, 150, 200]\n",
        "prices"
      ],
      "metadata": {
        "colab": {
          "base_uri": "https://localhost:8080/"
        },
        "id": "KlXrOf5rO0M3",
        "outputId": "4af7f72a-5db0-4293-be89-daff89acedb6"
      },
      "execution_count": 15,
      "outputs": [
        {
          "output_type": "execute_result",
          "data": {
            "text/plain": [
              "[50, 100, 150, 200]"
            ]
          },
          "metadata": {},
          "execution_count": 15
        }
      ]
    },
    {
      "cell_type": "code",
      "source": [
        "prices_w_tax = list(map(lambda x: round(x*1.10, 2), prices))\n",
        "prices_w_tax"
      ],
      "metadata": {
        "colab": {
          "base_uri": "https://localhost:8080/"
        },
        "id": "_1w1fkZNPB35",
        "outputId": "c520b56f-6fdd-4ba9-8642-ee5ed70e9f2b"
      },
      "execution_count": 17,
      "outputs": [
        {
          "output_type": "execute_result",
          "data": {
            "text/plain": [
              "[55.0, 110.0, 165.0, 220.0]"
            ]
          },
          "metadata": {},
          "execution_count": 17
        }
      ]
    },
    {
      "cell_type": "code",
      "source": [
        "total_cost = reduce(lambda x, y: x + y, prices_w_tax)\n",
        "total_cost"
      ],
      "metadata": {
        "colab": {
          "base_uri": "https://localhost:8080/"
        },
        "id": "9afHHguVPkXB",
        "outputId": "150f3d4f-2158-4bd9-be98-631e6bb1a85a"
      },
      "execution_count": 18,
      "outputs": [
        {
          "output_type": "execute_result",
          "data": {
            "text/plain": [
              "550.0"
            ]
          },
          "metadata": {},
          "execution_count": 18
        }
      ]
    }
  ]
}